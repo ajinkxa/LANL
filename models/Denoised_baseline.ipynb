{
 "cells": [
  {
   "cell_type": "markdown",
   "metadata": {},
   "source": [
    "**Importing the libraries**"
   ]
  },
  {
   "cell_type": "code",
   "execution_count": 21,
   "metadata": {},
   "outputs": [],
   "source": [
    "from sklearn.model_selection import StratifiedKFold, KFold, RepeatedKFold\n",
    "from sklearn.model_selection import train_test_split\n",
    "from sklearn.ensemble import RandomForestRegressor\n",
    "from sklearn.preprocessing import StandardScaler\n",
    "from sklearn.metrics import mean_absolute_error\n",
    "from eli5.sklearn import PermutationImportance\n",
    "from sklearn.tree import DecisionTreeRegressor\n",
    "from catboost import CatBoostRegressor,Pool\n",
    "from sklearn import preprocessing\n",
    "import matplotlib.patches as patch\n",
    "from scipy.stats import kurtosis\n",
    "import matplotlib.pyplot as plt\n",
    "from sklearn.svm import NuSVR\n",
    "from scipy.stats import skew\n",
    "from scipy.stats import norm\n",
    "from scipy import linalg\n",
    "from sklearn import tree\n",
    "from sklearn import svm\n",
    "import lightgbm as lgb\n",
    "import xgboost as xgb\n",
    "from tqdm import tqdm\n",
    "import seaborn as sns\n",
    "import pandas as pd\n",
    "import numpy as np\n",
    "import graphviz\n",
    "import warnings\n",
    "import random\n",
    "import eli5\n",
    "from eli5.sklearn import PermutationImportance\n",
    "import shap  # package used to calculate Shap values\n",
    "import time\n",
    "import glob\n",
    "import sys\n",
    "import os"
   ]
  },
  {
   "cell_type": "markdown",
   "metadata": {},
   "source": [
    "**Python pre-requisites**"
   ]
  },
  {
   "cell_type": "code",
   "execution_count": 2,
   "metadata": {},
   "outputs": [],
   "source": [
    "%matplotlib inline\n",
    "%precision 4\n",
    "warnings.filterwarnings('ignore')\n",
    "plt.style.use('ggplot')\n",
    "np.set_printoptions(suppress=True)\n",
    "pd.set_option(\"display.precision\", 15)"
   ]
  },
  {
   "cell_type": "markdown",
   "metadata": {},
   "source": [
    "**Setting path for creating data pipeline**"
   ]
  },
  {
   "cell_type": "code",
   "execution_count": 3,
   "metadata": {},
   "outputs": [],
   "source": [
    "path = 'D:\\ISU\\IE 587\\Project\\denoised features'\n",
    "os.chdir(path)"
   ]
  },
  {
   "cell_type": "markdown",
   "metadata": {},
   "source": [
    "**Loading the train data**"
   ]
  },
  {
   "cell_type": "code",
   "execution_count": 4,
   "metadata": {},
   "outputs": [
    {
     "name": "stdout",
     "output_type": "stream",
     "text": [
      "Wall time: 2.1 s\n"
     ]
    }
   ],
   "source": [
    "%%time\n",
    "train = pd.read_csv('train_features_denoised.csv')"
   ]
  },
  {
   "cell_type": "code",
   "execution_count": 5,
   "metadata": {},
   "outputs": [
    {
     "data": {
      "text/html": [
       "<div>\n",
       "<style scoped>\n",
       "    .dataframe tbody tr th:only-of-type {\n",
       "        vertical-align: middle;\n",
       "    }\n",
       "\n",
       "    .dataframe tbody tr th {\n",
       "        vertical-align: top;\n",
       "    }\n",
       "\n",
       "    .dataframe thead th {\n",
       "        text-align: right;\n",
       "    }\n",
       "</style>\n",
       "<table border=\"1\" class=\"dataframe\">\n",
       "  <thead>\n",
       "    <tr style=\"text-align: right;\">\n",
       "      <th></th>\n",
       "      <th>Hann_window_mean_150</th>\n",
       "      <th>Hann_window_mean_1500</th>\n",
       "      <th>Hann_window_mean_15000</th>\n",
       "      <th>Hann_window_mean_50</th>\n",
       "      <th>Hilbert_mean</th>\n",
       "      <th>abs_energy</th>\n",
       "      <th>abs_max</th>\n",
       "      <th>abs_max_roll_mean_10</th>\n",
       "      <th>abs_max_roll_mean_100</th>\n",
       "      <th>abs_max_roll_mean_1000</th>\n",
       "      <th>...</th>\n",
       "      <th>time_rev_asym_stat_1</th>\n",
       "      <th>time_rev_asym_stat_10</th>\n",
       "      <th>time_rev_asym_stat_100</th>\n",
       "      <th>time_rev_asym_stat_1000</th>\n",
       "      <th>time_rev_asym_stat_10000</th>\n",
       "      <th>time_rev_asym_stat_5</th>\n",
       "      <th>time_rev_asym_stat_50</th>\n",
       "      <th>time_rev_asym_stat_500</th>\n",
       "      <th>trend</th>\n",
       "      <th>var_larger_than_std_dev</th>\n",
       "    </tr>\n",
       "  </thead>\n",
       "  <tbody>\n",
       "    <tr>\n",
       "      <td>0</td>\n",
       "      <td>-0.001664147605421</td>\n",
       "      <td>-0.001635852868712</td>\n",
       "      <td>-0.001575525520872</td>\n",
       "      <td>-0.001691640541782</td>\n",
       "      <td>1.571311178197287</td>\n",
       "      <td>2.214657520390557e+06</td>\n",
       "      <td>103.719286521655889</td>\n",
       "      <td>65.848238564092441</td>\n",
       "      <td>5.124388698175711</td>\n",
       "      <td>0.514386190173771</td>\n",
       "      <td>...</td>\n",
       "      <td>-0.096420407246901</td>\n",
       "      <td>-24.507658220827970</td>\n",
       "      <td>3.706442323830551</td>\n",
       "      <td>1.413534184174831</td>\n",
       "      <td>0.471447345824418</td>\n",
       "      <td>-6.521118219461393</td>\n",
       "      <td>-0.009140143692533</td>\n",
       "      <td>2.522993798144944</td>\n",
       "      <td>-0.000000060056403</td>\n",
       "      <td>True</td>\n",
       "    </tr>\n",
       "    <tr>\n",
       "      <td>1</td>\n",
       "      <td>-0.000537758286648</td>\n",
       "      <td>-0.000534781236927</td>\n",
       "      <td>-0.000506705333658</td>\n",
       "      <td>-0.000537978776103</td>\n",
       "      <td>2.056154069838052</td>\n",
       "      <td>4.763819837510224e+06</td>\n",
       "      <td>179.071606940658143</td>\n",
       "      <td>154.927312691455825</td>\n",
       "      <td>10.235463078671351</td>\n",
       "      <td>1.025659834311068</td>\n",
       "      <td>...</td>\n",
       "      <td>0.258199532798016</td>\n",
       "      <td>88.924023421070942</td>\n",
       "      <td>143.980043802316686</td>\n",
       "      <td>7.359462725006689</td>\n",
       "      <td>-2.108296571555000</td>\n",
       "      <td>84.043278984183502</td>\n",
       "      <td>68.351270883398328</td>\n",
       "      <td>6.802377071091023</td>\n",
       "      <td>-0.000000020051138</td>\n",
       "      <td>True</td>\n",
       "    </tr>\n",
       "    <tr>\n",
       "      <td>2</td>\n",
       "      <td>0.002995159477478</td>\n",
       "      <td>0.003000717476243</td>\n",
       "      <td>0.002878113542093</td>\n",
       "      <td>0.002969253456014</td>\n",
       "      <td>2.609251779225567</td>\n",
       "      <td>5.347760421955101e+06</td>\n",
       "      <td>132.997666959632937</td>\n",
       "      <td>92.656081225090844</td>\n",
       "      <td>6.994292010841567</td>\n",
       "      <td>0.671265332808759</td>\n",
       "      <td>...</td>\n",
       "      <td>-0.615191595512900</td>\n",
       "      <td>-24.766723941285051</td>\n",
       "      <td>65.447497488503188</td>\n",
       "      <td>0.486344666576969</td>\n",
       "      <td>6.692607147215793</td>\n",
       "      <td>-37.209306572942772</td>\n",
       "      <td>11.370507392062022</td>\n",
       "      <td>40.075131250635721</td>\n",
       "      <td>0.000000086074548</td>\n",
       "      <td>True</td>\n",
       "    </tr>\n",
       "    <tr>\n",
       "      <td>3</td>\n",
       "      <td>-0.000377213786939</td>\n",
       "      <td>-0.000366397326087</td>\n",
       "      <td>-0.000352430802049</td>\n",
       "      <td>-0.000381808657018</td>\n",
       "      <td>2.164196813553777</td>\n",
       "      <td>5.402907428912619e+06</td>\n",
       "      <td>212.923499302500488</td>\n",
       "      <td>134.717540078522433</td>\n",
       "      <td>14.527569077811634</td>\n",
       "      <td>1.003279179335431</td>\n",
       "      <td>...</td>\n",
       "      <td>1.888609274809342</td>\n",
       "      <td>214.061271017309423</td>\n",
       "      <td>235.203521470197302</td>\n",
       "      <td>-0.909736517939260</td>\n",
       "      <td>4.128007149771127</td>\n",
       "      <td>147.369930250765037</td>\n",
       "      <td>-82.615385161359043</td>\n",
       "      <td>21.555171209747233</td>\n",
       "      <td>-0.000000012875785</td>\n",
       "      <td>True</td>\n",
       "    </tr>\n",
       "    <tr>\n",
       "      <td>4</td>\n",
       "      <td>-0.002107701068876</td>\n",
       "      <td>-0.002085780327126</td>\n",
       "      <td>-0.001965103752775</td>\n",
       "      <td>-0.002108543206342</td>\n",
       "      <td>2.526496296389278</td>\n",
       "      <td>6.236539020102236e+06</td>\n",
       "      <td>145.860531645298181</td>\n",
       "      <td>99.522535237699316</td>\n",
       "      <td>8.743624387715270</td>\n",
       "      <td>0.848335352533279</td>\n",
       "      <td>...</td>\n",
       "      <td>-0.941679270691838</td>\n",
       "      <td>8.955586639683442</td>\n",
       "      <td>59.356235470642254</td>\n",
       "      <td>3.132654224243285</td>\n",
       "      <td>0.467576902184649</td>\n",
       "      <td>17.314863577612133</td>\n",
       "      <td>56.868139445440292</td>\n",
       "      <td>-31.466588602536980</td>\n",
       "      <td>-0.000000074737843</td>\n",
       "      <td>True</td>\n",
       "    </tr>\n",
       "  </tbody>\n",
       "</table>\n",
       "<p>5 rows × 979 columns</p>\n",
       "</div>"
      ],
      "text/plain": [
       "   Hann_window_mean_150  Hann_window_mean_1500  Hann_window_mean_15000  \\\n",
       "0    -0.001664147605421     -0.001635852868712      -0.001575525520872   \n",
       "1    -0.000537758286648     -0.000534781236927      -0.000506705333658   \n",
       "2     0.002995159477478      0.003000717476243       0.002878113542093   \n",
       "3    -0.000377213786939     -0.000366397326087      -0.000352430802049   \n",
       "4    -0.002107701068876     -0.002085780327126      -0.001965103752775   \n",
       "\n",
       "   Hann_window_mean_50       Hilbert_mean             abs_energy  \\\n",
       "0   -0.001691640541782  1.571311178197287  2.214657520390557e+06   \n",
       "1   -0.000537978776103  2.056154069838052  4.763819837510224e+06   \n",
       "2    0.002969253456014  2.609251779225567  5.347760421955101e+06   \n",
       "3   -0.000381808657018  2.164196813553777  5.402907428912619e+06   \n",
       "4   -0.002108543206342  2.526496296389278  6.236539020102236e+06   \n",
       "\n",
       "               abs_max  abs_max_roll_mean_10  abs_max_roll_mean_100  \\\n",
       "0  103.719286521655889    65.848238564092441      5.124388698175711   \n",
       "1  179.071606940658143   154.927312691455825     10.235463078671351   \n",
       "2  132.997666959632937    92.656081225090844      6.994292010841567   \n",
       "3  212.923499302500488   134.717540078522433     14.527569077811634   \n",
       "4  145.860531645298181    99.522535237699316      8.743624387715270   \n",
       "\n",
       "   abs_max_roll_mean_1000  ...  time_rev_asym_stat_1  time_rev_asym_stat_10  \\\n",
       "0       0.514386190173771  ...    -0.096420407246901    -24.507658220827970   \n",
       "1       1.025659834311068  ...     0.258199532798016     88.924023421070942   \n",
       "2       0.671265332808759  ...    -0.615191595512900    -24.766723941285051   \n",
       "3       1.003279179335431  ...     1.888609274809342    214.061271017309423   \n",
       "4       0.848335352533279  ...    -0.941679270691838      8.955586639683442   \n",
       "\n",
       "   time_rev_asym_stat_100  time_rev_asym_stat_1000  time_rev_asym_stat_10000  \\\n",
       "0       3.706442323830551        1.413534184174831         0.471447345824418   \n",
       "1     143.980043802316686        7.359462725006689        -2.108296571555000   \n",
       "2      65.447497488503188        0.486344666576969         6.692607147215793   \n",
       "3     235.203521470197302       -0.909736517939260         4.128007149771127   \n",
       "4      59.356235470642254        3.132654224243285         0.467576902184649   \n",
       "\n",
       "   time_rev_asym_stat_5  time_rev_asym_stat_50  time_rev_asym_stat_500  \\\n",
       "0    -6.521118219461393     -0.009140143692533       2.522993798144944   \n",
       "1    84.043278984183502     68.351270883398328       6.802377071091023   \n",
       "2   -37.209306572942772     11.370507392062022      40.075131250635721   \n",
       "3   147.369930250765037    -82.615385161359043      21.555171209747233   \n",
       "4    17.314863577612133     56.868139445440292     -31.466588602536980   \n",
       "\n",
       "               trend  var_larger_than_std_dev  \n",
       "0 -0.000000060056403                     True  \n",
       "1 -0.000000020051138                     True  \n",
       "2  0.000000086074548                     True  \n",
       "3 -0.000000012875785                     True  \n",
       "4 -0.000000074737843                     True  \n",
       "\n",
       "[5 rows x 979 columns]"
      ]
     },
     "execution_count": 5,
     "metadata": {},
     "output_type": "execute_result"
    }
   ],
   "source": [
    "train.head(5)"
   ]
  },
  {
   "cell_type": "code",
   "execution_count": 6,
   "metadata": {},
   "outputs": [
    {
     "data": {
      "text/html": [
       "<div>\n",
       "<style scoped>\n",
       "    .dataframe tbody tr th:only-of-type {\n",
       "        vertical-align: middle;\n",
       "    }\n",
       "\n",
       "    .dataframe tbody tr th {\n",
       "        vertical-align: top;\n",
       "    }\n",
       "\n",
       "    .dataframe thead th {\n",
       "        text-align: right;\n",
       "    }\n",
       "</style>\n",
       "<table border=\"1\" class=\"dataframe\">\n",
       "  <thead>\n",
       "    <tr style=\"text-align: right;\">\n",
       "      <th></th>\n",
       "      <th>seg_id</th>\n",
       "    </tr>\n",
       "  </thead>\n",
       "  <tbody>\n",
       "    <tr>\n",
       "      <td>0</td>\n",
       "      <td>train_0</td>\n",
       "    </tr>\n",
       "    <tr>\n",
       "      <td>1</td>\n",
       "      <td>train_1</td>\n",
       "    </tr>\n",
       "    <tr>\n",
       "      <td>2</td>\n",
       "      <td>train_2</td>\n",
       "    </tr>\n",
       "    <tr>\n",
       "      <td>3</td>\n",
       "      <td>train_3</td>\n",
       "    </tr>\n",
       "    <tr>\n",
       "      <td>4</td>\n",
       "      <td>train_4</td>\n",
       "    </tr>\n",
       "    <tr>\n",
       "      <td>...</td>\n",
       "      <td>...</td>\n",
       "    </tr>\n",
       "    <tr>\n",
       "      <td>4190</td>\n",
       "      <td>train_4190</td>\n",
       "    </tr>\n",
       "    <tr>\n",
       "      <td>4191</td>\n",
       "      <td>train_4191</td>\n",
       "    </tr>\n",
       "    <tr>\n",
       "      <td>4192</td>\n",
       "      <td>train_4192</td>\n",
       "    </tr>\n",
       "    <tr>\n",
       "      <td>4193</td>\n",
       "      <td>train_4193</td>\n",
       "    </tr>\n",
       "    <tr>\n",
       "      <td>4194</td>\n",
       "      <td>train_4194</td>\n",
       "    </tr>\n",
       "  </tbody>\n",
       "</table>\n",
       "<p>4195 rows × 1 columns</p>\n",
       "</div>"
      ],
      "text/plain": [
       "          seg_id\n",
       "0        train_0\n",
       "1        train_1\n",
       "2        train_2\n",
       "3        train_3\n",
       "4        train_4\n",
       "...          ...\n",
       "4190  train_4190\n",
       "4191  train_4191\n",
       "4192  train_4192\n",
       "4193  train_4193\n",
       "4194  train_4194\n",
       "\n",
       "[4195 rows x 1 columns]"
      ]
     },
     "execution_count": 6,
     "metadata": {},
     "output_type": "execute_result"
    }
   ],
   "source": [
    "train.select_dtypes(include='object')"
   ]
  },
  {
   "cell_type": "code",
   "execution_count": 7,
   "metadata": {},
   "outputs": [],
   "source": [
    "train = train.drop(['var_larger_than_std_dev','seg_id'], axis=1)"
   ]
  },
  {
   "cell_type": "code",
   "execution_count": null,
   "metadata": {},
   "outputs": [],
   "source": []
  },
  {
   "cell_type": "code",
   "execution_count": 8,
   "metadata": {},
   "outputs": [],
   "source": [
    "y = pd.read_csv('y.csv')"
   ]
  },
  {
   "cell_type": "code",
   "execution_count": 9,
   "metadata": {},
   "outputs": [
    {
     "data": {
      "text/plain": [
       "(4195, 977)"
      ]
     },
     "execution_count": 9,
     "metadata": {},
     "output_type": "execute_result"
    }
   ],
   "source": [
    "train.shape"
   ]
  },
  {
   "cell_type": "markdown",
   "metadata": {},
   "source": [
    "**Loading the test data**"
   ]
  },
  {
   "cell_type": "code",
   "execution_count": 10,
   "metadata": {},
   "outputs": [
    {
     "name": "stdout",
     "output_type": "stream",
     "text": [
      "Wall time: 1.45 s\n"
     ]
    }
   ],
   "source": [
    "%%time\n",
    "test = pd.read_csv('test_features_denoised.csv')"
   ]
  },
  {
   "cell_type": "code",
   "execution_count": 11,
   "metadata": {},
   "outputs": [],
   "source": [
    "test = test.drop(['var_larger_than_std_dev','seg_id'], axis=1)"
   ]
  },
  {
   "cell_type": "code",
   "execution_count": 12,
   "metadata": {},
   "outputs": [
    {
     "data": {
      "text/plain": [
       "(2624, 977)"
      ]
     },
     "execution_count": 12,
     "metadata": {},
     "output_type": "execute_result"
    }
   ],
   "source": [
    "test.shape"
   ]
  },
  {
   "cell_type": "markdown",
   "metadata": {},
   "source": [
    "**Creating submission file**"
   ]
  },
  {
   "cell_type": "code",
   "execution_count": 13,
   "metadata": {},
   "outputs": [
    {
     "data": {
      "text/html": [
       "<div>\n",
       "<style scoped>\n",
       "    .dataframe tbody tr th:only-of-type {\n",
       "        vertical-align: middle;\n",
       "    }\n",
       "\n",
       "    .dataframe tbody tr th {\n",
       "        vertical-align: top;\n",
       "    }\n",
       "\n",
       "    .dataframe thead th {\n",
       "        text-align: right;\n",
       "    }\n",
       "</style>\n",
       "<table border=\"1\" class=\"dataframe\">\n",
       "  <thead>\n",
       "    <tr style=\"text-align: right;\">\n",
       "      <th></th>\n",
       "      <th>time_to_failure</th>\n",
       "    </tr>\n",
       "    <tr>\n",
       "      <th>seg_id</th>\n",
       "      <th></th>\n",
       "    </tr>\n",
       "  </thead>\n",
       "  <tbody>\n",
       "    <tr>\n",
       "      <td>seg_00030f</td>\n",
       "      <td>0</td>\n",
       "    </tr>\n",
       "    <tr>\n",
       "      <td>seg_0012b5</td>\n",
       "      <td>0</td>\n",
       "    </tr>\n",
       "    <tr>\n",
       "      <td>seg_00184e</td>\n",
       "      <td>0</td>\n",
       "    </tr>\n",
       "    <tr>\n",
       "      <td>seg_003339</td>\n",
       "      <td>0</td>\n",
       "    </tr>\n",
       "    <tr>\n",
       "      <td>seg_0042cc</td>\n",
       "      <td>0</td>\n",
       "    </tr>\n",
       "  </tbody>\n",
       "</table>\n",
       "</div>"
      ],
      "text/plain": [
       "            time_to_failure\n",
       "seg_id                     \n",
       "seg_00030f                0\n",
       "seg_0012b5                0\n",
       "seg_00184e                0\n",
       "seg_003339                0\n",
       "seg_0042cc                0"
      ]
     },
     "execution_count": 13,
     "metadata": {},
     "output_type": "execute_result"
    }
   ],
   "source": [
    "submission = pd.read_csv('sample_submission.csv', index_col='seg_id')\n",
    "submission.head()"
   ]
  },
  {
   "cell_type": "code",
   "execution_count": 14,
   "metadata": {},
   "outputs": [
    {
     "data": {
      "text/plain": [
       "(2624, 1)"
      ]
     },
     "execution_count": 14,
     "metadata": {},
     "output_type": "execute_result"
    }
   ],
   "source": [
    "submission.shape"
   ]
  },
  {
   "cell_type": "markdown",
   "metadata": {},
   "source": [
    "**Standardizing the train data**"
   ]
  },
  {
   "cell_type": "code",
   "execution_count": 15,
   "metadata": {},
   "outputs": [],
   "source": [
    "scaler = StandardScaler()\n",
    "scaler.fit(train)\n",
    "X_scaled = scaler.transform(train)"
   ]
  },
  {
   "cell_type": "code",
   "execution_count": 16,
   "metadata": {},
   "outputs": [],
   "source": [
    "X_scaled = pd.DataFrame(X_scaled)"
   ]
  },
  {
   "cell_type": "markdown",
   "metadata": {},
   "source": [
    "**Standardizing the test data**"
   ]
  },
  {
   "cell_type": "code",
   "execution_count": 17,
   "metadata": {},
   "outputs": [],
   "source": [
    "scaler = StandardScaler()\n",
    "scaler.fit(test)\n",
    "test_scaled = scaler.transform(test)"
   ]
  },
  {
   "cell_type": "markdown",
   "metadata": {},
   "source": [
    "**Create data partition**"
   ]
  },
  {
   "cell_type": "code",
   "execution_count": 18,
   "metadata": {},
   "outputs": [],
   "source": [
    "X_train, X_val, y_train, y_val = train_test_split(X_scaled, y, test_size=0.2, shuffle=True)"
   ]
  },
  {
   "cell_type": "markdown",
   "metadata": {},
   "source": [
    "**Model training: SVM**"
   ]
  },
  {
   "cell_type": "code",
   "execution_count": 23,
   "metadata": {},
   "outputs": [],
   "source": [
    "svm = NuSVR()\n",
    "svm_fit = svm.fit(X_train, y_train)\n",
    "y_pred_svm = svm.predict(X_val)"
   ]
  },
  {
   "cell_type": "code",
   "execution_count": 24,
   "metadata": {},
   "outputs": [
    {
     "name": "stdout",
     "output_type": "stream",
     "text": [
      "Score: 1.267\n"
     ]
    }
   ],
   "source": [
    "score = mean_absolute_error(y_val, y_pred_svm)\n",
    "print(f'Score: {score:0.3f}')"
   ]
  }
 ],
 "metadata": {
  "kernelspec": {
   "display_name": "Python 3",
   "language": "python",
   "name": "python3"
  },
  "language_info": {
   "codemirror_mode": {
    "name": "ipython",
    "version": 3
   },
   "file_extension": ".py",
   "mimetype": "text/x-python",
   "name": "python",
   "nbconvert_exporter": "python",
   "pygments_lexer": "ipython3",
   "version": "3.7.4"
  }
 },
 "nbformat": 4,
 "nbformat_minor": 2
}
