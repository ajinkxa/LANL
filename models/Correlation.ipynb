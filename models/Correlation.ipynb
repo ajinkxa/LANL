{
 "cells": [
  {
   "cell_type": "markdown",
   "metadata": {},
   "source": [
    "# Import libraries"
   ]
  },
  {
   "cell_type": "code",
   "execution_count": 16,
   "metadata": {},
   "outputs": [],
   "source": [
    "suppressWarnings(library(tidyverse)) #For ggplot and dplyr\n",
    "suppressWarnings(library(corrplot)) #For correlation plot\n",
    "suppressWarnings(library(Matrix))\n",
    "suppressWarnings(library(caret))"
   ]
  },
  {
   "cell_type": "markdown",
   "metadata": {},
   "source": [
    "# Load and prepare data"
   ]
  },
  {
   "cell_type": "code",
   "execution_count": 3,
   "metadata": {},
   "outputs": [],
   "source": [
    "data<-read.csv('train_features_denoised.csv')"
   ]
  },
  {
   "cell_type": "markdown",
   "metadata": {},
   "source": [
    "## Drop non-numeric features"
   ]
  },
  {
   "cell_type": "code",
   "execution_count": 4,
   "metadata": {},
   "outputs": [],
   "source": [
    "data = subset(data, select = -c(942,979,804,477) )"
   ]
  },
  {
   "cell_type": "markdown",
   "metadata": {},
   "source": [
    "# Correlation analysis"
   ]
  },
  {
   "cell_type": "markdown",
   "metadata": {},
   "source": [
    "## Remove columns with zero standard deviation"
   ]
  },
  {
   "cell_type": "code",
   "execution_count": 5,
   "metadata": {},
   "outputs": [],
   "source": [
    "zv <- apply(data, 2, function(x) length(unique(x)) == 1)\n",
    "\n",
    "dfr <- data[, !zv]\n",
    "\n",
    "n=length(colnames(dfr))"
   ]
  },
  {
   "cell_type": "markdown",
   "metadata": {},
   "source": [
    "## Correlation matrix"
   ]
  },
  {
   "cell_type": "code",
   "execution_count": 6,
   "metadata": {},
   "outputs": [],
   "source": [
    "correlationMatrix <- cor(dfr[,1:n],use=\"complete.obs\")"
   ]
  },
  {
   "cell_type": "markdown",
   "metadata": {},
   "source": [
    "## Finding highly correlated features"
   ]
  },
  {
   "cell_type": "code",
   "execution_count": 8,
   "metadata": {},
   "outputs": [],
   "source": [
    "highlyCorrelated <- findCorrelation(correlationMatrix, cutoff=(0.95),verbose = FALSE)"
   ]
  },
  {
   "cell_type": "code",
   "execution_count": 11,
   "metadata": {},
   "outputs": [],
   "source": [
    "important_var=colnames(data[,-highlyCorrelated])"
   ]
  },
  {
   "cell_type": "markdown",
   "metadata": {},
   "source": [
    "## New dataframe with non-correlated features"
   ]
  },
  {
   "cell_type": "code",
   "execution_count": 14,
   "metadata": {},
   "outputs": [],
   "source": [
    "newdata = subset(data, select = c(highlyCorrelated) )"
   ]
  },
  {
   "cell_type": "code",
   "execution_count": 15,
   "metadata": {},
   "outputs": [
    {
     "data": {
      "text/html": [
       "<table>\n",
       "<thead><tr><th scope=col>Hann_window_mean_15000</th><th scope=col>Hann_window_mean_50</th><th scope=col>abs_max_roll_mean_1000</th><th scope=col>abs_max_roll_mean_500</th><th scope=col>abs_max_roll_std_10</th><th scope=col>abs_max_roll_std_100</th><th scope=col>abs_max_roll_std_1000</th><th scope=col>abs_max_roll_std_10000</th><th scope=col>abs_max_roll_std_50</th><th scope=col>abs_max_roll_std_500</th><th scope=col>...</th><th scope=col>num_peaks_20</th><th scope=col>abs_percentile_80</th><th scope=col>percentile_roll_mean_1</th><th scope=col>percentile_roll_mean_5</th><th scope=col>first_loc_max</th><th scope=col>percentile_roll_std_40</th><th scope=col>ffti_kstat_2</th><th scope=col>fftr_classic_sta_lta3_mean</th><th scope=col>range_0_1000</th><th scope=col>percentile_40</th></tr></thead>\n",
       "<tbody>\n",
       "\t<tr><td>-0.0015755255</td><td>-0.0016916405</td><td>0.5143862    </td><td>1.429788     </td><td> 77.19083    </td><td> 52.39428    </td><td>30.57727     </td><td>10.492331    </td><td> 61.39826    </td><td>38.17127     </td><td>...          </td><td>1            </td><td>0.013499014  </td><td>-0.014305564 </td><td>-0.013499014 </td><td>0.01726667   </td><td>2.465721     </td><td>1114031      </td><td>0.9555718    </td><td>122652       </td><td> 6.839202e-05</td></tr>\n",
       "\t<tr><td>-0.0005067053</td><td>-0.0005379788</td><td>1.0256598    </td><td>2.252655     </td><td>121.95037    </td><td> 87.95394    </td><td>38.29391     </td><td>12.694477    </td><td> 94.07351    </td><td>50.62675     </td><td>...          </td><td>1            </td><td>0.004480948  </td><td>-0.011112505 </td><td>-0.004480948 </td><td>0.36593333   </td><td>3.238586     </td><td>2389866      </td><td>0.9555699    </td><td>121252       </td><td> 3.128987e-05</td></tr>\n",
       "\t<tr><td> 0.0028781135</td><td> 0.0029692535</td><td>0.6712653    </td><td>1.530752     </td><td> 90.02805    </td><td> 52.96034    </td><td>34.86977     </td><td>13.706290    </td><td> 63.98284    </td><td>45.08659     </td><td>...          </td><td>1            </td><td>0.020113577  </td><td>-0.010037704 </td><td>-0.003077443 </td><td>0.86184000   </td><td>4.077025     </td><td>2692227      </td><td>0.9555704    </td><td>136104       </td><td> 5.496177e-04</td></tr>\n",
       "\t<tr><td>-0.0003524308</td><td>-0.0003818087</td><td>1.0032792    </td><td>2.362434     </td><td>129.66288    </td><td>105.08899    </td><td>52.57770     </td><td>17.094134    </td><td>114.25968    </td><td>69.11888     </td><td>...          </td><td>1            </td><td>0.002873622  </td><td>-0.016170971 </td><td>-0.004743519 </td><td>0.44658667   </td><td>2.580766     </td><td>2686521      </td><td>0.9555694    </td><td> 12549       </td><td>-8.197059e-06</td></tr>\n",
       "\t<tr><td>-0.0019651038</td><td>-0.0021085432</td><td>0.8483354    </td><td>1.468733     </td><td> 98.20469    </td><td> 73.79307    </td><td>45.19773     </td><td>16.054281    </td><td> 83.10242    </td><td>51.48768     </td><td>...          </td><td>2            </td><td>0.017042591  </td><td>-0.025710104 </td><td>-0.017042591 </td><td>0.53557333   </td><td>2.641427     </td><td>3109894      </td><td>0.9555694    </td><td>121561       </td><td> 4.756524e-05</td></tr>\n",
       "\t<tr><td> 0.0003122649</td><td> 0.0003350734</td><td>0.5628706    </td><td>1.380653     </td><td>108.09222    </td><td> 65.27149    </td><td>25.59098     </td><td> 9.151493    </td><td> 85.49132    </td><td>34.79873     </td><td>...          </td><td>0            </td><td>0.003513350  </td><td>-0.008181189 </td><td>-0.002859028 </td><td>0.35218667   </td><td>2.609660     </td><td>1328608      </td><td>0.9555722    </td><td> 26089       </td><td>-1.221319e-04</td></tr>\n",
       "</tbody>\n",
       "</table>\n"
      ],
      "text/latex": [
       "\\begin{tabular}{r|llllllllllllllllllllllllllllllllllllllllllllllllllllllllllllllllllllllllllllllllllllllllllllllllllllllllllllllllllllllllllllllllllllllllllllllllllllllllllllllllllllllllllllllllllllllllllllllllllllllllllllllllllllllllllllllllllllllllllllllllllllllllllllllllllllllllllllllllllllllllllllllllllllllllllllllllllllllllllllllllllllllllllllllllllllllllllllllllllllllllllllllllllllllllllllllllllllllllllllllllllllllllllllllllllllllllllllllllllllllllllllllllllllllllllllllllllllllllllllllllllllllllllllllllllllllllllllllllllllllllllllllllllllllllllllllllllllllllllllllllllllllllllllllllllllllllllllllllllllllllllllllllllllllllllllllllllllllllllllllllllll}\n",
       " Hann\\_window\\_mean\\_15000 & Hann\\_window\\_mean\\_50 & abs\\_max\\_roll\\_mean\\_1000 & abs\\_max\\_roll\\_mean\\_500 & abs\\_max\\_roll\\_std\\_10 & abs\\_max\\_roll\\_std\\_100 & abs\\_max\\_roll\\_std\\_1000 & abs\\_max\\_roll\\_std\\_10000 & abs\\_max\\_roll\\_std\\_50 & abs\\_max\\_roll\\_std\\_500 & ... & num\\_peaks\\_20 & abs\\_percentile\\_80 & percentile\\_roll\\_mean\\_1 & percentile\\_roll\\_mean\\_5 & first\\_loc\\_max & percentile\\_roll\\_std\\_40 & ffti\\_kstat\\_2 & fftr\\_classic\\_sta\\_lta3\\_mean & range\\_0\\_1000 & percentile\\_40\\\\\n",
       "\\hline\n",
       "\t -0.0015755255 & -0.0016916405 & 0.5143862     & 1.429788      &  77.19083     &  52.39428     & 30.57727      & 10.492331     &  61.39826     & 38.17127      & ...           & 1             & 0.013499014   & -0.014305564  & -0.013499014  & 0.01726667    & 2.465721      & 1114031       & 0.9555718     & 122652        &  6.839202e-05\\\\\n",
       "\t -0.0005067053 & -0.0005379788 & 1.0256598     & 2.252655      & 121.95037     &  87.95394     & 38.29391      & 12.694477     &  94.07351     & 50.62675      & ...           & 1             & 0.004480948   & -0.011112505  & -0.004480948  & 0.36593333    & 3.238586      & 2389866       & 0.9555699     & 121252        &  3.128987e-05\\\\\n",
       "\t  0.0028781135 &  0.0029692535 & 0.6712653     & 1.530752      &  90.02805     &  52.96034     & 34.86977      & 13.706290     &  63.98284     & 45.08659      & ...           & 1             & 0.020113577   & -0.010037704  & -0.003077443  & 0.86184000    & 4.077025      & 2692227       & 0.9555704     & 136104        &  5.496177e-04\\\\\n",
       "\t -0.0003524308 & -0.0003818087 & 1.0032792     & 2.362434      & 129.66288     & 105.08899     & 52.57770      & 17.094134     & 114.25968     & 69.11888      & ...           & 1             & 0.002873622   & -0.016170971  & -0.004743519  & 0.44658667    & 2.580766      & 2686521       & 0.9555694     &  12549        & -8.197059e-06\\\\\n",
       "\t -0.0019651038 & -0.0021085432 & 0.8483354     & 1.468733      &  98.20469     &  73.79307     & 45.19773      & 16.054281     &  83.10242     & 51.48768      & ...           & 2             & 0.017042591   & -0.025710104  & -0.017042591  & 0.53557333    & 2.641427      & 3109894       & 0.9555694     & 121561        &  4.756524e-05\\\\\n",
       "\t  0.0003122649 &  0.0003350734 & 0.5628706     & 1.380653      & 108.09222     &  65.27149     & 25.59098      &  9.151493     &  85.49132     & 34.79873      & ...           & 0             & 0.003513350   & -0.008181189  & -0.002859028  & 0.35218667    & 2.609660      & 1328608       & 0.9555722     &  26089        & -1.221319e-04\\\\\n",
       "\\end{tabular}\n"
      ],
      "text/markdown": [
       "\n",
       "| Hann_window_mean_15000 | Hann_window_mean_50 | abs_max_roll_mean_1000 | abs_max_roll_mean_500 | abs_max_roll_std_10 | abs_max_roll_std_100 | abs_max_roll_std_1000 | abs_max_roll_std_10000 | abs_max_roll_std_50 | abs_max_roll_std_500 | ... | num_peaks_20 | abs_percentile_80 | percentile_roll_mean_1 | percentile_roll_mean_5 | first_loc_max | percentile_roll_std_40 | ffti_kstat_2 | fftr_classic_sta_lta3_mean | range_0_1000 | percentile_40 |\n",
       "|---|---|---|---|---|---|---|---|---|---|---|---|---|---|---|---|---|---|---|---|---|\n",
       "| -0.0015755255 | -0.0016916405 | 0.5143862     | 1.429788      |  77.19083     |  52.39428     | 30.57727      | 10.492331     |  61.39826     | 38.17127      | ...           | 1             | 0.013499014   | -0.014305564  | -0.013499014  | 0.01726667    | 2.465721      | 1114031       | 0.9555718     | 122652        |  6.839202e-05 |\n",
       "| -0.0005067053 | -0.0005379788 | 1.0256598     | 2.252655      | 121.95037     |  87.95394     | 38.29391      | 12.694477     |  94.07351     | 50.62675      | ...           | 1             | 0.004480948   | -0.011112505  | -0.004480948  | 0.36593333    | 3.238586      | 2389866       | 0.9555699     | 121252        |  3.128987e-05 |\n",
       "|  0.0028781135 |  0.0029692535 | 0.6712653     | 1.530752      |  90.02805     |  52.96034     | 34.86977      | 13.706290     |  63.98284     | 45.08659      | ...           | 1             | 0.020113577   | -0.010037704  | -0.003077443  | 0.86184000    | 4.077025      | 2692227       | 0.9555704     | 136104        |  5.496177e-04 |\n",
       "| -0.0003524308 | -0.0003818087 | 1.0032792     | 2.362434      | 129.66288     | 105.08899     | 52.57770      | 17.094134     | 114.25968     | 69.11888      | ...           | 1             | 0.002873622   | -0.016170971  | -0.004743519  | 0.44658667    | 2.580766      | 2686521       | 0.9555694     |  12549        | -8.197059e-06 |\n",
       "| -0.0019651038 | -0.0021085432 | 0.8483354     | 1.468733      |  98.20469     |  73.79307     | 45.19773      | 16.054281     |  83.10242     | 51.48768      | ...           | 2             | 0.017042591   | -0.025710104  | -0.017042591  | 0.53557333    | 2.641427      | 3109894       | 0.9555694     | 121561        |  4.756524e-05 |\n",
       "|  0.0003122649 |  0.0003350734 | 0.5628706     | 1.380653      | 108.09222     |  65.27149     | 25.59098      |  9.151493     |  85.49132     | 34.79873      | ...           | 0             | 0.003513350   | -0.008181189  | -0.002859028  | 0.35218667    | 2.609660      | 1328608       | 0.9555722     |  26089        | -1.221319e-04 |\n",
       "\n"
      ],
      "text/plain": [
       "  Hann_window_mean_15000 Hann_window_mean_50 abs_max_roll_mean_1000\n",
       "1 -0.0015755255          -0.0016916405       0.5143862             \n",
       "2 -0.0005067053          -0.0005379788       1.0256598             \n",
       "3  0.0028781135           0.0029692535       0.6712653             \n",
       "4 -0.0003524308          -0.0003818087       1.0032792             \n",
       "5 -0.0019651038          -0.0021085432       0.8483354             \n",
       "6  0.0003122649           0.0003350734       0.5628706             \n",
       "  abs_max_roll_mean_500 abs_max_roll_std_10 abs_max_roll_std_100\n",
       "1 1.429788               77.19083            52.39428           \n",
       "2 2.252655              121.95037            87.95394           \n",
       "3 1.530752               90.02805            52.96034           \n",
       "4 2.362434              129.66288           105.08899           \n",
       "5 1.468733               98.20469            73.79307           \n",
       "6 1.380653              108.09222            65.27149           \n",
       "  abs_max_roll_std_1000 abs_max_roll_std_10000 abs_max_roll_std_50\n",
       "1 30.57727              10.492331               61.39826          \n",
       "2 38.29391              12.694477               94.07351          \n",
       "3 34.86977              13.706290               63.98284          \n",
       "4 52.57770              17.094134              114.25968          \n",
       "5 45.19773              16.054281               83.10242          \n",
       "6 25.59098               9.151493               85.49132          \n",
       "  abs_max_roll_std_500 ... num_peaks_20 abs_percentile_80\n",
       "1 38.17127             ... 1            0.013499014      \n",
       "2 50.62675             ... 1            0.004480948      \n",
       "3 45.08659             ... 1            0.020113577      \n",
       "4 69.11888             ... 1            0.002873622      \n",
       "5 51.48768             ... 2            0.017042591      \n",
       "6 34.79873             ... 0            0.003513350      \n",
       "  percentile_roll_mean_1 percentile_roll_mean_5 first_loc_max\n",
       "1 -0.014305564           -0.013499014           0.01726667   \n",
       "2 -0.011112505           -0.004480948           0.36593333   \n",
       "3 -0.010037704           -0.003077443           0.86184000   \n",
       "4 -0.016170971           -0.004743519           0.44658667   \n",
       "5 -0.025710104           -0.017042591           0.53557333   \n",
       "6 -0.008181189           -0.002859028           0.35218667   \n",
       "  percentile_roll_std_40 ffti_kstat_2 fftr_classic_sta_lta3_mean range_0_1000\n",
       "1 2.465721               1114031      0.9555718                  122652      \n",
       "2 3.238586               2389866      0.9555699                  121252      \n",
       "3 4.077025               2692227      0.9555704                  136104      \n",
       "4 2.580766               2686521      0.9555694                   12549      \n",
       "5 2.641427               3109894      0.9555694                  121561      \n",
       "6 2.609660               1328608      0.9555722                   26089      \n",
       "  percentile_40\n",
       "1  6.839202e-05\n",
       "2  3.128987e-05\n",
       "3  5.496177e-04\n",
       "4 -8.197059e-06\n",
       "5  4.756524e-05\n",
       "6 -1.221319e-04"
      ]
     },
     "metadata": {},
     "output_type": "display_data"
    }
   ],
   "source": [
    "head(newdata)"
   ]
  }
 ],
 "metadata": {
  "kernelspec": {
   "display_name": "R",
   "language": "R",
   "name": "ir"
  },
  "language_info": {
   "codemirror_mode": "r",
   "file_extension": ".r",
   "mimetype": "text/x-r-source",
   "name": "R",
   "pygments_lexer": "r",
   "version": "3.6.1"
  }
 },
 "nbformat": 4,
 "nbformat_minor": 2
}
